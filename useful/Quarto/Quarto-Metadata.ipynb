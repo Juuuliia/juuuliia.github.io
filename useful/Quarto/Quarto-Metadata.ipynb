{
 "cells": [
  {
   "cell_type": "markdown",
   "metadata": {},
   "source": [
    "# 00-eda"
   ]
  },
  {
   "cell_type": "raw",
   "metadata": {
    "vscode": {
     "languageId": "raw"
    }
   },
   "source": [
    "---\n",
    "title: \"Adversarial Attacks - Wie Kann KI überlistert werden?\"\n",
    "subtitle: \"00 Explorative Datenanalyse\"\n",
    "title-block-banner: \"#010B50\"\n",
    "author:\n",
    "  - name: Gabriel Torres Gamez\n",
    "    affiliation:\n",
    "      name: Fachhochschule Nordwestschweiz FHNW\n",
    "      url: https://www.fhnw.ch/de/\n",
    "    email: gabriel.torresgamez@students.fhnw.ch\n",
    "  - name: Si Ben Tran\n",
    "    affiliation:\n",
    "      name: Fachhochschule Nordwestschweiz FHNW\n",
    "      url: https://www.fhnw.ch/de/\n",
    "    email: siben.tran@students.fhnw.ch\n",
    "toc: true\n",
    "number-sections: true\n",
    "other-links:\n",
    "  - text: ICIJ Offshore Leaks\n",
    "    href: https://offshoreleaks.icij.org/\n",
    "code-links:\n",
    "  - text: GitHub Repository\n",
    "    icon: file-code\n",
    "    href: https://github.com/AdversarialAttacks/main/blob/main/notebooks/00-eda.ipynb\n",
    "output-file: \"00-eda.html\"\n",
    "format:\n",
    "  html:\n",
    "    html-math-method: katex\n",
    "    smooth-scroll: true\n",
    "    embed-resources: true\n",
    "keywords: \n",
    "  - Adversarial Attacks\n",
    "  - Universal Adversarial Attacks\n",
    "lang: de\n",
    "css: styles.css\n",
    "---"
   ]
  },
  {
   "cell_type": "markdown",
   "metadata": {},
   "source": [
    "# 01-dataloader"
   ]
  },
  {
   "cell_type": "raw",
   "metadata": {
    "vscode": {
     "languageId": "raw"
    }
   },
   "source": [
    "---\n",
    "title: \"Adversarial Attacks - Wie Kann KI überlistert werden?\"\n",
    "subtitle: \"01 Dataloader\"\n",
    "title-block-banner: \"#010B50\"\n",
    "author:\n",
    "  - name: Gabriel Torres Gamez\n",
    "    affiliation:\n",
    "      name: Fachhochschule Nordwestschweiz FHNW\n",
    "      url: https://www.fhnw.ch/de/\n",
    "    email: gabriel.torresgamez@students.fhnw.ch\n",
    "  - name: Si Ben Tran\n",
    "    affiliation:\n",
    "      name: Fachhochschule Nordwestschweiz FHNW\n",
    "      url: https://www.fhnw.ch/de/\n",
    "    email: siben.tran@students.fhnw.ch\n",
    "toc: true\n",
    "number-sections: true\n",
    "other-links:\n",
    "  - text: ICIJ Offshore Leaks\n",
    "    href: https://offshoreleaks.icij.org/\n",
    "code-links:\n",
    "  - text: GitHub Repository\n",
    "    icon: file-code\n",
    "    href: https://github.com/AdversarialAttacks/main/blob/main/notebooks/01-dataloader.ipynb\n",
    "output-file: \"01-dataloader.html\"\n",
    "format:\n",
    "  html:\n",
    "    html-math-method: katex\n",
    "    smooth-scroll: true\n",
    "    embed-resources: true\n",
    "keywords: \n",
    "  - Adversarial Attacks\n",
    "  - Universal Adversarial Attacks\n",
    "lang: de\n",
    "css: styles.css\n",
    "---"
   ]
  },
  {
   "cell_type": "markdown",
   "metadata": {},
   "source": [
    "# 02-models"
   ]
  },
  {
   "cell_type": "raw",
   "metadata": {
    "vscode": {
     "languageId": "raw"
    }
   },
   "source": [
    "---\n",
    "title: \"Adversarial Attacks - Wie Kann KI überlistert werden?\"\n",
    "subtitle: \"02 Models\"\n",
    "title-block-banner: \"#010B50\"\n",
    "author:\n",
    "  - name: Gabriel Torres Gamez\n",
    "    affiliation:\n",
    "      name: Fachhochschule Nordwestschweiz FHNW\n",
    "      url: https://www.fhnw.ch/de/\n",
    "    email: gabriel.torresgamez@students.fhnw.ch\n",
    "  - name: Si Ben Tran\n",
    "    affiliation:\n",
    "      name: Fachhochschule Nordwestschweiz FHNW\n",
    "      url: https://www.fhnw.ch/de/\n",
    "    email: siben.tran@students.fhnw.ch\n",
    "toc: true\n",
    "number-sections: true\n",
    "other-links:\n",
    "  - text: ICIJ Offshore Leaks\n",
    "    href: https://offshoreleaks.icij.org/\n",
    "code-links:\n",
    "  - text: GitHub Repository\n",
    "    icon: file-code\n",
    "    href: https://github.com/AdversarialAttacks/main/blob/main/notebooks/02-models.ipynb\n",
    "output-file: \"02-models.html\"\n",
    "format:\n",
    "  html:\n",
    "    html-math-method: katex\n",
    "    smooth-scroll: true\n",
    "    embed-resources: true\n",
    "keywords: \n",
    "  - Adversarial Attacks\n",
    "  - Universal Adversarial Attacks\n",
    "lang: de\n",
    "css: styles.css\n",
    "---"
   ]
  },
  {
   "cell_type": "markdown",
   "metadata": {},
   "source": [
    "# 03-training"
   ]
  },
  {
   "cell_type": "raw",
   "metadata": {
    "vscode": {
     "languageId": "raw"
    }
   },
   "source": [
    "---\n",
    "title: \"Adversarial Attacks - Wie Kann KI überlistert werden?\"\n",
    "subtitle: \"03 Training\"\n",
    "title-block-banner: \"#010B50\"\n",
    "author:\n",
    "  - name: Gabriel Torres Gamez\n",
    "    affiliation:\n",
    "      name: Fachhochschule Nordwestschweiz FHNW\n",
    "      url: https://www.fhnw.ch/de/\n",
    "    email: gabriel.torresgamez@students.fhnw.ch\n",
    "  - name: Si Ben Tran\n",
    "    affiliation:\n",
    "      name: Fachhochschule Nordwestschweiz FHNW\n",
    "      url: https://www.fhnw.ch/de/\n",
    "    email: siben.tran@students.fhnw.ch\n",
    "toc: true\n",
    "number-sections: true\n",
    "other-links:\n",
    "  - text: ICIJ Offshore Leaks\n",
    "    href: https://offshoreleaks.icij.org/\n",
    "code-links:\n",
    "  - text: GitHub Repository\n",
    "    icon: file-code\n",
    "    href: https://github.com/AdversarialAttacks/main/blob/main/notebooks/03-training.ipynb\n",
    "output-file: \"03-training.html\"\n",
    "format:\n",
    "  html:\n",
    "    html-math-method: katex\n",
    "    smooth-scroll: true\n",
    "    embed-resources: true\n",
    "keywords: \n",
    "  - Adversarial Attacks\n",
    "  - Universal Adversarial Attacks\n",
    "lang: de\n",
    "css: styles.css\n",
    "---"
   ]
  },
  {
   "cell_type": "markdown",
   "metadata": {},
   "source": [
    "# 04-evaluation"
   ]
  },
  {
   "cell_type": "raw",
   "metadata": {
    "vscode": {
     "languageId": "raw"
    }
   },
   "source": [
    "---\n",
    "title: \"Adversarial Attacks - Wie Kann KI überlistert werden?\"\n",
    "subtitle: \"04 Evluation\"\n",
    "title-block-banner: \"#010B50\"\n",
    "author:\n",
    "  - name: Gabriel Torres Gamez\n",
    "    affiliation:\n",
    "      name: Fachhochschule Nordwestschweiz FHNW\n",
    "      url: https://www.fhnw.ch/de/\n",
    "    email: gabriel.torresgamez@students.fhnw.ch\n",
    "  - name: Si Ben Tran\n",
    "    affiliation:\n",
    "      name: Fachhochschule Nordwestschweiz FHNW\n",
    "      url: https://www.fhnw.ch/de/\n",
    "    email: siben.tran@students.fhnw.ch\n",
    "toc: true\n",
    "number-sections: true\n",
    "other-links:\n",
    "  - text: ICIJ Offshore Leaks\n",
    "    href: https://offshoreleaks.icij.org/\n",
    "code-links:\n",
    "  - text: GitHub Repository\n",
    "    icon: file-code\n",
    "    href: https://github.com/AdversarialAttacks/main/blob/main/notebooks/04-evaluation.ipynb\n",
    "output-file: \"04-evaluation.html\"\n",
    "format:\n",
    "  html:\n",
    "    html-math-method: katex\n",
    "    smooth-scroll: true\n",
    "    embed-resources: true\n",
    "keywords: \n",
    "  - Adversarial Attacks\n",
    "  - Universal Adversarial Attacks\n",
    "lang: de\n",
    "css: styles.css\n",
    "---"
   ]
  },
  {
   "cell_type": "markdown",
   "metadata": {},
   "source": [
    "# 05-testing"
   ]
  },
  {
   "cell_type": "raw",
   "metadata": {
    "vscode": {
     "languageId": "raw"
    }
   },
   "source": [
    "---\n",
    "title: \"Adversarial Attacks - Wie Kann KI überlistert werden?\"\n",
    "subtitle: \"05 Testing\"\n",
    "title-block-banner: \"#010B50\"\n",
    "author:\n",
    "  - name: Gabriel Torres Gamez\n",
    "    affiliation:\n",
    "      name: Fachhochschule Nordwestschweiz FHNW\n",
    "      url: https://www.fhnw.ch/de/\n",
    "    email: gabriel.torresgamez@students.fhnw.ch\n",
    "  - name: Si Ben Tran\n",
    "    affiliation:\n",
    "      name: Fachhochschule Nordwestschweiz FHNW\n",
    "      url: https://www.fhnw.ch/de/\n",
    "    email: siben.tran@students.fhnw.ch\n",
    "toc: true\n",
    "number-sections: true\n",
    "other-links:\n",
    "  - text: ICIJ Offshore Leaks\n",
    "    href: https://offshoreleaks.icij.org/\n",
    "code-links:\n",
    "  - text: GitHub Repository\n",
    "    icon: file-code\n",
    "    href: https://github.com/AdversarialAttacks/main/blob/main/notebooks/05-testing.ipynb\n",
    "output-file: \"05-testing.html\"\n",
    "format:\n",
    "  html:\n",
    "    html-math-method: katex\n",
    "    smooth-scroll: true\n",
    "    embed-resources: true\n",
    "keywords: \n",
    "  - Adversarial Attacks\n",
    "  - Universal Adversarial Attacks\n",
    "lang: de\n",
    "css: styles.css\n",
    "---"
   ]
  },
  {
   "cell_type": "markdown",
   "metadata": {},
   "source": [
    "# 06-perturbation-example"
   ]
  },
  {
   "cell_type": "raw",
   "metadata": {
    "vscode": {
     "languageId": "raw"
    }
   },
   "source": [
    "---\n",
    "title: \"Adversarial Attacks - Wie Kann KI überlistert werden?\"\n",
    "subtitle: \"06 Perturbation Example\"\n",
    "title-block-banner: \"#010B50\"\n",
    "author:\n",
    "  - name: Gabriel Torres Gamez\n",
    "    affiliation:\n",
    "      name: Fachhochschule Nordwestschweiz FHNW\n",
    "      url: https://www.fhnw.ch/de/\n",
    "    email: gabriel.torresgamez@students.fhnw.ch\n",
    "  - name: Si Ben Tran\n",
    "    affiliation:\n",
    "      name: Fachhochschule Nordwestschweiz FHNW\n",
    "      url: https://www.fhnw.ch/de/\n",
    "    email: siben.tran@students.fhnw.ch\n",
    "toc: true\n",
    "number-sections: true\n",
    "other-links:\n",
    "  - text: ICIJ Offshore Leaks\n",
    "    href: https://offshoreleaks.icij.org/\n",
    "code-links:\n",
    "  - text: GitHub Repository\n",
    "    icon: file-code\n",
    "    href: https://github.com/AdversarialAttacks/main/blob/main/notebooks/06-perturbation-example.ipynb\n",
    "output-file: \"06-perturbation-example.html\"\n",
    "format:\n",
    "  html:\n",
    "    html-math-method: katex\n",
    "    smooth-scroll: true\n",
    "    embed-resources: true\n",
    "keywords: \n",
    "  - Adversarial Attacks\n",
    "  - Universal Adversarial Attacks\n",
    "lang: de\n",
    "css: styles.css\n",
    "---"
   ]
  },
  {
   "cell_type": "markdown",
   "metadata": {},
   "source": [
    "# 07-customtransform-testing.ipynb"
   ]
  },
  {
   "cell_type": "raw",
   "metadata": {
    "vscode": {
     "languageId": "raw"
    }
   },
   "source": [
    "---\n",
    "title: \"Adversarial Attacks - Wie Kann KI überlistert werden?\"\n",
    "subtitle: \"07 Custom Transform Testing\"\n",
    "title-block-banner: \"#010B50\"\n",
    "author:\n",
    "  - name: Gabriel Torres Gamez\n",
    "    affiliation:\n",
    "      name: Fachhochschule Nordwestschweiz FHNW\n",
    "      url: https://www.fhnw.ch/de/\n",
    "    email: gabriel.torresgamez@students.fhnw.ch\n",
    "  - name: Si Ben Tran\n",
    "    affiliation:\n",
    "      name: Fachhochschule Nordwestschweiz FHNW\n",
    "      url: https://www.fhnw.ch/de/\n",
    "    email: siben.tran@students.fhnw.ch\n",
    "toc: true\n",
    "number-sections: true\n",
    "other-links:\n",
    "  - text: ICIJ Offshore Leaks\n",
    "    href: https://offshoreleaks.icij.org/\n",
    "code-links:\n",
    "  - text: GitHub Repository\n",
    "    icon: file-code\n",
    "    href: https://github.com/AdversarialAttacks/main/blob/main/notebooks/07-customtransform-testing.ipynb\n",
    "output-file: \"07-customtransform-testing.html\"\n",
    "format:\n",
    "  html:\n",
    "    html-math-method: katex\n",
    "    smooth-scroll: true\n",
    "    embed-resources: true\n",
    "keywords: \n",
    "  - Adversarial Attacks\n",
    "  - Universal Adversarial Attacks\n",
    "lang: de\n",
    "css: styles.css\n",
    "---"
   ]
  },
  {
   "cell_type": "markdown",
   "metadata": {},
   "source": [
    "# 08-eval-uap-examples.ipynb"
   ]
  },
  {
   "cell_type": "raw",
   "metadata": {
    "vscode": {
     "languageId": "raw"
    }
   },
   "source": [
    "---\n",
    "title: \"Adversarial Attacks - Wie Kann KI überlistert werden?\"\n",
    "subtitle: \"08 Evaluation UAP Example\"\n",
    "title-block-banner: \"#010B50\"\n",
    "author:\n",
    "  - name: Gabriel Torres Gamez\n",
    "    affiliation:\n",
    "      name: Fachhochschule Nordwestschweiz FHNW\n",
    "      url: https://www.fhnw.ch/de/\n",
    "    email: gabriel.torresgamez@students.fhnw.ch\n",
    "  - name: Si Ben Tran\n",
    "    affiliation:\n",
    "      name: Fachhochschule Nordwestschweiz FHNW\n",
    "      url: https://www.fhnw.ch/de/\n",
    "    email: siben.tran@students.fhnw.ch\n",
    "toc: true\n",
    "number-sections: true\n",
    "other-links:\n",
    "  - text: ICIJ Offshore Leaks\n",
    "    href: https://offshoreleaks.icij.org/\n",
    "code-links:\n",
    "  - text: GitHub Repository\n",
    "    icon: file-code\n",
    "    href: https://github.com/AdversarialAttacks/main/blob/main/notebooks/08-eval-uap-examples.ipynb\n",
    "output-file: \"08-eval-uap-examples.html\"\n",
    "format:\n",
    "  html:\n",
    "    html-math-method: katex\n",
    "    smooth-scroll: true\n",
    "    embed-resources: true\n",
    "keywords: \n",
    "  - Adversarial Attacks\n",
    "  - Universal Adversarial Attacks\n",
    "lang: de\n",
    "css: styles.css\n",
    "---"
   ]
  },
  {
   "cell_type": "markdown",
   "metadata": {},
   "source": [
    "# 09-pipeline.ipynb"
   ]
  },
  {
   "cell_type": "raw",
   "metadata": {
    "vscode": {
     "languageId": "raw"
    }
   },
   "source": [
    "---\n",
    "title: \"Adversarial Attacks - Wie Kann KI überlistert werden?\"\n",
    "subtitle: \"09 Pipeline\"\n",
    "title-block-banner: \"#010B50\"\n",
    "author:\n",
    "  - name: Gabriel Torres Gamez\n",
    "    affiliation:\n",
    "      name: Fachhochschule Nordwestschweiz FHNW\n",
    "      url: https://www.fhnw.ch/de/\n",
    "    email: gabriel.torresgamez@students.fhnw.ch\n",
    "  - name: Si Ben Tran\n",
    "    affiliation:\n",
    "      name: Fachhochschule Nordwestschweiz FHNW\n",
    "      url: https://www.fhnw.ch/de/\n",
    "    email: siben.tran@students.fhnw.ch\n",
    "toc: true\n",
    "number-sections: true\n",
    "other-links:\n",
    "  - text: ICIJ Offshore Leaks\n",
    "    href: https://offshoreleaks.icij.org/\n",
    "code-links:\n",
    "  - text: GitHub Repository\n",
    "    icon: file-code\n",
    "    href: https://github.com/AdversarialAttacks/main/blob/main/notebooks/09-pipeline.ipynb\n",
    "output-file: \"09-pipeline.html\"\n",
    "format:\n",
    "  html:\n",
    "    html-math-method: katex\n",
    "    smooth-scroll: true\n",
    "    embed-resources: true\n",
    "keywords: \n",
    "  - Adversarial Attacks\n",
    "  - Universal Adversarial Attacks\n",
    "lang: de\n",
    "css: styles.css\n",
    "---"
   ]
  }
 ],
 "metadata": {
  "language_info": {
   "name": "python"
  }
 },
 "nbformat": 4,
 "nbformat_minor": 2
}
